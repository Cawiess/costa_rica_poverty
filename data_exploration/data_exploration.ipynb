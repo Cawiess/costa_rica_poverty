{
 "cells": [
  {
   "cell_type": "markdown",
   "metadata": {},
   "source": [
    "### Config"
   ]
  },
  {
   "cell_type": "code",
   "execution_count": 1,
   "metadata": {},
   "outputs": [],
   "source": [
    "from pathlib import Path"
   ]
  },
  {
   "cell_type": "code",
   "execution_count": 30,
   "metadata": {},
   "outputs": [],
   "source": [
    "# Path specifications\n",
    "PROJECT_NAME = 'costa_rica_poverty'\n",
    "PACKAGE_ROOT = Path().resolve().parent\n",
    "INPUT_DIR = f\"{PACKAGE_ROOT}/{PROJECT_NAME}/packages/model/model/input/data\"\n",
    "ASSET_DIR = f\"{PACKAGE_ROOT}/{PROJECT_NAME}/packages/model/model/assets\"\n",
    "OUTPUT_DIR = f\"{PACKAGE_ROOT}/{PROJECT_NAME}/packages/model/model/output\"\n",
    "\n",
    "# Data file specifications\n",
    "CODEBOOK = 'codebook.csv'\n",
    "DATA_FILE = 'train.csv'"
   ]
  },
  {
   "cell_type": "markdown",
   "metadata": {},
   "source": [
    "### Data cleaning: test drafting"
   ]
  },
  {
   "cell_type": "code",
   "execution_count": 3,
   "metadata": {},
   "outputs": [],
   "source": [
    "import pandas as pd\n",
    "import numpy as np"
   ]
  },
  {
   "cell_type": "code",
   "execution_count": 4,
   "metadata": {},
   "outputs": [
    {
     "name": "stdout",
     "output_type": "stream",
     "text": [
      "(9557, 143)\n"
     ]
    }
   ],
   "source": [
    "codebook = pd.read_csv(f\"{ASSET_DIR}/{CODEBOOK}\")\n",
    "df = pd.read_csv(f\"{INPUT_DIR}/{DATA_FILE}\")\n",
    "print(df.shape)"
   ]
  },
  {
   "cell_type": "code",
   "execution_count": null,
   "metadata": {},
   "outputs": [],
   "source": [
    "################## Head of households\n",
    "\n",
    "#### TEST\n",
    "def test_head_of_household_exists(raw_data):\n",
    "    # Given\n",
    "    hh_head = df.groupby('idhogar')['parentesco1'].sum().reset_index()\n",
    "    \n",
    "    # When\n",
    "    hh_head_none = hh_head[hh_head['parentesco1']!=1]\n",
    "    \n",
    "    # Then\n",
    "    assert hh_head_none.shape[0]==0\n",
    "    \n",
    "#### FIX\n",
    "class HeadOfHouseholdExist(BaseEstimator, TransformerMixin):\n",
    "    def __init__(self, variables: List[str]) -> None:\n",
    "        '''\n",
    "        Specify variable input as list of strings representing column names of a pd.DataFrame.\n",
    "        '''\n",
    "        # YOUR CODE HERE\n",
    "        return None\n",
    "    \n",
    "    def fit(self, X: pd.DataFrame, y: pd.Series = None):\n",
    "        '''\n",
    "        Required method for Sklearn TransformerMixin class.\n",
    "        Remains inactive and performs no action for now.\n",
    "        Leave as is.\n",
    "        '''\n",
    "        return self\n",
    "\n",
    "    def transform(self, X: pd.DataFrame, y: pd.Series = None):\n",
    "        '''\n",
    "        Creates a copy of input dataframe, which is passed to method via the sklearn Pipeline.\n",
    "        This method performs changes to the dataframe with reference to specified variables.\n",
    "        The modified copy of the original dataframe is then returned and passed to the next step in pipeline.\n",
    "        Define your specific transformation here.\n",
    "        '''\n",
    "        X = X.copy()\n",
    "        # YOUR CODE HERE\n",
    "        hh_head = df.groupby('idhogar')['parentesco1'].sum().reset_index()\n",
    "        hh_head_none= hh_head[hh_head['parentesco1']!=1]\n",
    "        hh_head_none\n",
    "        \n",
    "        X = X[~X['idhogar'].isin(hh_head_none['idhogar'].values)]\n",
    "\n",
    "        return X\n",
    "\n",
    "#### TEST\n",
    "def test_household_target_match(raw_data):\n",
    "    # Given\n",
    "    householdTargetsMatching = (df.groupby('idhogar')['Target'].nunique()==1).reset_index()\n",
    "    \n",
    "    # When\n",
    "    householdTargetMisMatch = householdTargetsMatching[householdTargetsMatching['Target']==False]\n",
    "    \n",
    "    # Then\n",
    "    assert householdTargetMisMatch.shape[0]==0\n",
    "\n",
    "    \n",
    "#### FIX\n",
    "class HouseholdTargetsMatch(BaseEstimator, TransformerMixin):\n",
    "    def __init__(self, variables: List[str]) -> None:\n",
    "        '''\n",
    "        Specify variable input as list of strings representing column names of a pd.DataFrame.\n",
    "        '''\n",
    "        # YOUR CODE HERE\n",
    "        return None\n",
    "    \n",
    "    def fit(self, X: pd.DataFrame, y: pd.Series = None):\n",
    "        '''\n",
    "        Required method for Sklearn TransformerMixin class.\n",
    "        Remains inactive and performs no action for now.\n",
    "        Leave as is.\n",
    "        '''\n",
    "        return self\n",
    "\n",
    "    def transform(self, X: pd.DataFrame, y: pd.Series = None):\n",
    "        '''\n",
    "        Creates a copy of input dataframe, which is passed to method via the sklearn Pipeline.\n",
    "        This method performs changes to the dataframe with reference to specified variables.\n",
    "        The modified copy of the original dataframe is then returned and passed to the next step in pipeline.\n",
    "        Define your specific transformation here.\n",
    "        '''\n",
    "        X = X.copy()\n",
    "        # Identify household target mismatches\n",
    "        householdTargetsMatching = (X.groupby('idhogar')['Target'].nunique()==1).reset_index()\n",
    "        householdTargetMisMatch = householdTargetsMatching[householdTargetsMatching['Target']==False]\n",
    "        \n",
    "        # set all member targets to head of household target\n",
    "        for household in householdTargetMisMatch['idhogar']:\n",
    "            correct_poverty_level = int(X[(X['idhogar'] == household) & (X['parentesco1'] == 1)]['Target'])\n",
    "            X.loc[df['idhogar'] == household, 'Target'] = correct_poverty_level\n",
    "\n",
    "        return X\n"
   ]
  },
  {
   "cell_type": "code",
   "execution_count": 15,
   "metadata": {},
   "outputs": [
    {
     "data": {
      "text/html": [
       "<div>\n",
       "<style scoped>\n",
       "    .dataframe tbody tr th:only-of-type {\n",
       "        vertical-align: middle;\n",
       "    }\n",
       "\n",
       "    .dataframe tbody tr th {\n",
       "        vertical-align: top;\n",
       "    }\n",
       "\n",
       "    .dataframe thead th {\n",
       "        text-align: right;\n",
       "    }\n",
       "</style>\n",
       "<table border=\"1\" class=\"dataframe\">\n",
       "  <thead>\n",
       "    <tr style=\"text-align: right;\">\n",
       "      <th></th>\n",
       "      <th>idhogar</th>\n",
       "      <th>parentesco1</th>\n",
       "    </tr>\n",
       "  </thead>\n",
       "  <tbody>\n",
       "    <tr>\n",
       "      <th>38</th>\n",
       "      <td>03c6bdf85</td>\n",
       "      <td>0</td>\n",
       "    </tr>\n",
       "    <tr>\n",
       "      <th>114</th>\n",
       "      <td>09b195e7a</td>\n",
       "      <td>0</td>\n",
       "    </tr>\n",
       "    <tr>\n",
       "      <th>230</th>\n",
       "      <td>1367ab31d</td>\n",
       "      <td>0</td>\n",
       "    </tr>\n",
       "    <tr>\n",
       "      <th>331</th>\n",
       "      <td>1bc617b23</td>\n",
       "      <td>0</td>\n",
       "    </tr>\n",
       "    <tr>\n",
       "      <th>645</th>\n",
       "      <td>374ca5a19</td>\n",
       "      <td>0</td>\n",
       "    </tr>\n",
       "    <tr>\n",
       "      <th>1143</th>\n",
       "      <td>61c10e099</td>\n",
       "      <td>0</td>\n",
       "    </tr>\n",
       "    <tr>\n",
       "      <th>1268</th>\n",
       "      <td>6b1b2405f</td>\n",
       "      <td>0</td>\n",
       "    </tr>\n",
       "    <tr>\n",
       "      <th>1613</th>\n",
       "      <td>896fe6d3e</td>\n",
       "      <td>0</td>\n",
       "    </tr>\n",
       "    <tr>\n",
       "      <th>1867</th>\n",
       "      <td>a0812ef17</td>\n",
       "      <td>0</td>\n",
       "    </tr>\n",
       "    <tr>\n",
       "      <th>2027</th>\n",
       "      <td>ad687ad89</td>\n",
       "      <td>0</td>\n",
       "    </tr>\n",
       "    <tr>\n",
       "      <th>2068</th>\n",
       "      <td>b1f4d89d7</td>\n",
       "      <td>0</td>\n",
       "    </tr>\n",
       "    <tr>\n",
       "      <th>2241</th>\n",
       "      <td>bfd5067c2</td>\n",
       "      <td>0</td>\n",
       "    </tr>\n",
       "    <tr>\n",
       "      <th>2251</th>\n",
       "      <td>c0c8a5013</td>\n",
       "      <td>0</td>\n",
       "    </tr>\n",
       "    <tr>\n",
       "      <th>2453</th>\n",
       "      <td>d363d9183</td>\n",
       "      <td>0</td>\n",
       "    </tr>\n",
       "    <tr>\n",
       "      <th>2807</th>\n",
       "      <td>f2bfa75c4</td>\n",
       "      <td>0</td>\n",
       "    </tr>\n",
       "  </tbody>\n",
       "</table>\n",
       "</div>"
      ],
      "text/plain": [
       "        idhogar  parentesco1\n",
       "38    03c6bdf85            0\n",
       "114   09b195e7a            0\n",
       "230   1367ab31d            0\n",
       "331   1bc617b23            0\n",
       "645   374ca5a19            0\n",
       "1143  61c10e099            0\n",
       "1268  6b1b2405f            0\n",
       "1613  896fe6d3e            0\n",
       "1867  a0812ef17            0\n",
       "2027  ad687ad89            0\n",
       "2068  b1f4d89d7            0\n",
       "2241  bfd5067c2            0\n",
       "2251  c0c8a5013            0\n",
       "2453  d363d9183            0\n",
       "2807  f2bfa75c4            0"
      ]
     },
     "execution_count": 15,
     "metadata": {},
     "output_type": "execute_result"
    }
   ],
   "source": [
    "hh_head = df.groupby('idhogar')['parentesco1'].sum().reset_index()\n",
    "hh_head_none = hh_head[hh_head['parentesco1']!=1]\n",
    "hh_head_none\n",
    "df = df[~df['idhogar'].isin(hh_head_none['idhogar'].values)]"
   ]
  },
  {
   "cell_type": "code",
   "execution_count": 47,
   "metadata": {},
   "outputs": [
    {
     "data": {
      "text/plain": [
       "True"
      ]
     },
     "execution_count": 47,
     "metadata": {},
     "output_type": "execute_result"
    }
   ],
   "source": [
    "len(os.listdir(OUTPUT_DIR))>1"
   ]
  },
  {
   "cell_type": "code",
   "execution_count": null,
   "metadata": {},
   "outputs": [],
   "source": [
    "class MissingValuesEvaluator:\n",
    "    pass\n",
    "\n",
    "class VariableDistributionEvaluator:\n",
    "    pass"
   ]
  }
 ],
 "metadata": {
  "kernelspec": {
   "display_name": "Python 3",
   "language": "python",
   "name": "python3"
  },
  "language_info": {
   "codemirror_mode": {
    "name": "ipython",
    "version": 3
   },
   "file_extension": ".py",
   "mimetype": "text/x-python",
   "name": "python",
   "nbconvert_exporter": "python",
   "pygments_lexer": "ipython3",
   "version": "3.8.3"
  }
 },
 "nbformat": 4,
 "nbformat_minor": 4
}
