{
 "cells": [
  {
   "cell_type": "markdown",
   "metadata": {},
   "source": [
    "### Config"
   ]
  },
  {
   "cell_type": "code",
   "execution_count": null,
   "metadata": {},
   "outputs": [],
   "source": [
    "from pathlib import Path\n",
    "\n",
    "import numpy as np\n",
    "import pandas as pd\n",
    "from sklearn.base import BaseEstimator, TransformerMixin\n",
    "\n",
    "from typing import List"
   ]
  },
  {
   "cell_type": "code",
   "execution_count": null,
   "metadata": {},
   "outputs": [],
   "source": [
    "# Path specifications\n",
    "PROJECT_NAME = 'costa_rica_poverty'\n",
    "PACKAGE_ROOT = Path().resolve().parent\n",
    "INPUT_DIR = f\"{PACKAGE_ROOT}/{PROJECT_NAME}/packages/model/model/input/data\"\n",
    "ASSET_DIR = f\"{PACKAGE_ROOT}/{PROJECT_NAME}/packages/model/model/assets\"\n",
    "OUTPUT_DIR = f\"{PACKAGE_ROOT}/{PROJECT_NAME}/packages/model/model/output\"\n",
    "\n",
    "# Data file specifications\n",
    "CODEBOOK = 'codebook.csv'\n",
    "DATA_FILE = 'train.csv'"
   ]
  },
  {
   "cell_type": "markdown",
   "metadata": {},
   "source": [
    "### Data cleaning: test drafting"
   ]
  },
  {
   "cell_type": "code",
   "execution_count": null,
   "metadata": {},
   "outputs": [],
   "source": [
    "import pandas as pd\n",
    "import numpy as np"
   ]
  },
  {
   "cell_type": "code",
   "execution_count": null,
   "metadata": {},
   "outputs": [],
   "source": [
    "codebook = pd.read_csv(f\"{ASSET_DIR}/{CODEBOOK}\")\n",
    "df = pd.read_csv(f\"{INPUT_DIR}/{DATA_FILE}\")\n",
    "print(df.shape)"
   ]
  },
  {
   "cell_type": "code",
   "execution_count": null,
   "metadata": {},
   "outputs": [],
   "source": [
    "################## Head of households\n",
    "\n",
    "#### TEST\n",
    "def test_head_of_household_exists(raw_data):\n",
    "    # Given\n",
    "    hh_head = df.groupby('idhogar')['parentesco1'].sum().reset_index()\n",
    "    \n",
    "    # When\n",
    "    hh_head_none = hh_head[hh_head['parentesco1']!=1]\n",
    "    \n",
    "    # Then\n",
    "    assert hh_head_none.shape[0]==0\n",
    "    \n",
    "#### FIX\n",
    "class HeadOfHouseholdExist(BaseEstimator, TransformerMixin):\n",
    "    def __init__(self, variables: List[str]) -> None:\n",
    "        '''\n",
    "        Specify variable input as list of strings representing column names of a pd.DataFrame.\n",
    "        '''\n",
    "        # YOUR CODE HERE\n",
    "        return None\n",
    "    \n",
    "    def fit(self, X: pd.DataFrame, y: pd.Series = None):\n",
    "        '''\n",
    "        Required method for Sklearn TransformerMixin class.\n",
    "        Remains inactive and performs no action for now.\n",
    "        Leave as is.\n",
    "        '''\n",
    "        return self\n",
    "\n",
    "    def transform(self, X: pd.DataFrame, y: pd.Series = None):\n",
    "        '''\n",
    "        Creates a copy of input dataframe, which is passed to method via the sklearn Pipeline.\n",
    "        This method performs changes to the dataframe with reference to specified variables.\n",
    "        The modified copy of the original dataframe is then returned and passed to the next step in pipeline.\n",
    "        Define your specific transformation here.\n",
    "        '''\n",
    "        X = X.copy()\n",
    "        # YOUR CODE HERE\n",
    "        hh_head = df.groupby('idhogar')['parentesco1'].sum().reset_index()\n",
    "        hh_head_none= hh_head[hh_head['parentesco1']!=1]\n",
    "        hh_head_none\n",
    "        \n",
    "        X = X[~X['idhogar'].isin(hh_head_none['idhogar'].values)]\n",
    "\n",
    "        return X\n",
    "\n",
    "#### TEST\n",
    "def test_household_target_match(raw_data):\n",
    "    # Given\n",
    "    householdTargetsMatching = (df.groupby('idhogar')['Target'].nunique()==1).reset_index()\n",
    "    \n",
    "    # When\n",
    "    householdTargetMisMatch = householdTargetsMatching[householdTargetsMatching['Target']==False]\n",
    "    \n",
    "    # Then\n",
    "    assert householdTargetMisMatch.shape[0]==0\n",
    "\n",
    "    \n",
    "#### FIX\n",
    "class HouseholdTargetsMatch(BaseEstimator, TransformerMixin):\n",
    "    def __init__(self, variables: List[str]) -> None:\n",
    "        '''\n",
    "        Specify variable input as list of strings representing column names of a pd.DataFrame.\n",
    "        '''\n",
    "        # YOUR CODE HERE\n",
    "        return None\n",
    "    \n",
    "    def fit(self, X: pd.DataFrame, y: pd.Series = None):\n",
    "        '''\n",
    "        Required method for Sklearn TransformerMixin class.\n",
    "        Remains inactive and performs no action for now.\n",
    "        Leave as is.\n",
    "        '''\n",
    "        return self\n",
    "\n",
    "    def transform(self, X: pd.DataFrame, y: pd.Series = None):\n",
    "        '''\n",
    "        Creates a copy of input dataframe, which is passed to method via the sklearn Pipeline.\n",
    "        This method performs changes to the dataframe with reference to specified variables.\n",
    "        The modified copy of the original dataframe is then returned and passed to the next step in pipeline.\n",
    "        Define your specific transformation here.\n",
    "        '''\n",
    "        X = X.copy()\n",
    "        # Identify household target mismatches\n",
    "        householdTargetsMatching = (X.groupby('idhogar')['Target'].nunique()==1).reset_index()\n",
    "        householdTargetMisMatch = householdTargetsMatching[householdTargetsMatching['Target']==False]\n",
    "        \n",
    "        # set all member targets to head of household target\n",
    "        for household in householdTargetMisMatch['idhogar']:\n",
    "            correct_poverty_level = int(X[(X['idhogar'] == household) & (X['parentesco1'] == 1)]['Target'])\n",
    "            X.loc[df['idhogar'] == household, 'Target'] = correct_poverty_level\n",
    "\n",
    "        return X\n"
   ]
  },
  {
   "cell_type": "code",
   "execution_count": null,
   "metadata": {},
   "outputs": [],
   "source": [
    "#### FIX\n",
    "class BinaryEncoder(BaseEstimator, TransformerMixin):\n",
    "    def __init__(self, variables: List[str]) -> None:\n",
    "        '''\n",
    "        Specify variable input as list of strings representing column names of a pd.DataFrame.\n",
    "        '''\n",
    "        # YOUR CODE HERE\n",
    "        return None\n",
    "    \n",
    "    def fit(self, X: pd.DataFrame, y: pd.Series = None):\n",
    "        '''\n",
    "        Required method for Sklearn TransformerMixin class.\n",
    "        Remains inactive and performs no action for now.\n",
    "        Leave as is.\n",
    "        '''\n",
    "        return self\n",
    "\n",
    "    def transform(self, X: pd.DataFrame, y: pd.Series = None):\n",
    "        '''\n",
    "        Creates a copy of input dataframe, which is passed to method via the sklearn Pipeline.\n",
    "        This method performs changes to the dataframe with reference to specified variables.\n",
    "        The modified copy of the original dataframe is then returned and passed to the next step in pipeline.\n",
    "        Define your specific transformation here.\n",
    "        '''\n",
    "        X = X.copy()\n",
    "        \n",
    "        string_to_binary = {\"yes\": 1, \"no\": 0}\n",
    "\n",
    "        X['edjefa'] = X['edjefa'].replace(string_to_binary).astype(float)\n",
    "        X['edjefe'] = X['edjefe'].replace(string_to_binary).astype(float)\n",
    "        X['dependency'] = X['dependency'].replace(string_to_binary).astype(float)\n",
    "\n",
    "\n",
    "        return X"
   ]
  },
  {
   "cell_type": "code",
   "execution_count": null,
   "metadata": {},
   "outputs": [],
   "source": [
    "corr_matrix = df.corr()"
   ]
  },
  {
   "cell_type": "code",
   "execution_count": null,
   "metadata": {},
   "outputs": [],
   "source": [
    "corr_matrix"
   ]
  },
  {
   "cell_type": "code",
   "execution_count": null,
   "metadata": {},
   "outputs": [],
   "source": [
    "# Select upper triangle of correlation matrix\n",
    "upper = corr_matrix.where(np.triu(np.ones(corr_matrix.shape), k=1).astype(bool))\n"
   ]
  },
  {
   "cell_type": "code",
   "execution_count": null,
   "metadata": {},
   "outputs": [],
   "source": [
    "upper"
   ]
  },
  {
   "cell_type": "code",
   "execution_count": null,
   "metadata": {},
   "outputs": [],
   "source": [
    "\n",
    "# Find index of feature columns with correlation greater than 0.95\n",
    "to_drop = [column for column in upper.columns if any(abs(upper[column]) > 0.95)]\n",
    "\n"
   ]
  },
  {
   "cell_type": "code",
   "execution_count": null,
   "metadata": {},
   "outputs": [],
   "source": [
    "to_drop"
   ]
  },
  {
   "cell_type": "code",
   "execution_count": null,
   "metadata": {},
   "outputs": [],
   "source": [
    "['coopele', 'area2', 'tamhog', 'hhsize', 'hogar_total']"
   ]
  },
  {
   "cell_type": "code",
   "execution_count": null,
   "metadata": {},
   "outputs": [],
   "source": [
    "electricity_values = []\n",
    "\n",
    "# Assign values\n",
    "for i, row in df.iterrows():\n",
    "    if row['noelec'] == 1:\n",
    "        electricity_values.append(0)\n",
    "    elif row['coopele'] == 1:\n",
    "        electricity_values.append(1)\n",
    "    elif row['public'] == 1:\n",
    "        electricity_values.append(2)\n",
    "    elif row['planpri'] == 1:\n",
    "        electricity_values.append(3)\n",
    "    else:\n",
    "        elec.append(np.nan)\n",
    "\n",
    "df['elec'] = elec"
   ]
  },
  {
   "cell_type": "code",
   "execution_count": null,
   "metadata": {},
   "outputs": [],
   "source": [
    "# Record the new variable and missing flag\n",
    "df = df.drop(columns = ['noelec', 'coopele', 'public', 'planpri'])"
   ]
  },
  {
   "cell_type": "code",
   "execution_count": null,
   "metadata": {},
   "outputs": [],
   "source": [
    "pd.DataFrame(elec)[0].value_counts()"
   ]
  },
  {
   "cell_type": "code",
   "execution_count": null,
   "metadata": {},
   "outputs": [],
   "source": []
  }
 ],
 "metadata": {
  "kernelspec": {
   "display_name": "Python 3 (ipykernel)",
   "language": "python",
   "name": "python3"
  },
  "language_info": {
   "codemirror_mode": {
    "name": "ipython",
    "version": 3
   },
   "file_extension": ".py",
   "mimetype": "text/x-python",
   "name": "python",
   "nbconvert_exporter": "python",
   "pygments_lexer": "ipython3",
   "version": "3.9.12"
  }
 },
 "nbformat": 4,
 "nbformat_minor": 4
}
