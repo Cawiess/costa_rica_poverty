{
 "cells": [
  {
   "cell_type": "markdown",
   "metadata": {},
   "source": [
    "### Config"
   ]
  },
  {
   "cell_type": "code",
   "execution_count": 1,
   "metadata": {},
   "outputs": [],
   "source": [
    "from pathlib import Path"
   ]
  },
  {
   "cell_type": "code",
   "execution_count": 2,
   "metadata": {},
   "outputs": [],
   "source": [
    "# Path specifications\n",
    "PROJECT_NAME = 'costa_rica_poverty'\n",
    "PACKAGE_ROOT = Path().resolve().parent\n",
    "INPUT_DIR = f\"{PACKAGE_ROOT}/{PROJECT_NAME}/packages/model/model/input/data\"\n",
    "ASSET_DIR = f\"{PACKAGE_ROOT}/{PROJECT_NAME}/packages/model/model/assets\"\n",
    "OUTPUT_DIR = f\"{PACKAGE_ROOT}/{PROJECT_NAME}/packages/model/model/output\"\n",
    "\n",
    "# Data file specifications\n",
    "CODEBOOK = 'codebook.csv'\n",
    "DATA_FILE = 'train.csv'"
   ]
  },
  {
   "cell_type": "markdown",
   "metadata": {},
   "source": [
    "### Data cleaning: test drafting"
   ]
  },
  {
   "cell_type": "code",
   "execution_count": 3,
   "metadata": {},
   "outputs": [],
   "source": [
    "import pandas as pd\n",
    "import numpy as np"
   ]
  },
  {
   "cell_type": "code",
   "execution_count": 4,
   "metadata": {},
   "outputs": [
    {
     "name": "stdout",
     "output_type": "stream",
     "text": [
      "(9557, 143)\n"
     ]
    }
   ],
   "source": [
    "codebook = pd.read_csv(f\"{ASSET_DIR}/{CODEBOOK}\")\n",
    "df = pd.read_csv(f\"{INPUT_DIR}/{DATA_FILE}\")\n",
    "print(df.shape)"
   ]
  },
  {
   "cell_type": "code",
   "execution_count": 5,
   "metadata": {},
   "outputs": [
    {
     "ename": "NameError",
     "evalue": "name 'BaseEstimator' is not defined",
     "output_type": "error",
     "traceback": [
      "\u001b[1;31m---------------------------------------------------------------------------\u001b[0m",
      "\u001b[1;31mNameError\u001b[0m                                 Traceback (most recent call last)",
      "\u001b[1;32m<ipython-input-5-2968c391b65a>\u001b[0m in \u001b[0;36m<module>\u001b[1;34m\u001b[0m\n\u001b[0;32m     13\u001b[0m \u001b[1;33m\u001b[0m\u001b[0m\n\u001b[0;32m     14\u001b[0m \u001b[1;31m#### FIX\u001b[0m\u001b[1;33m\u001b[0m\u001b[1;33m\u001b[0m\u001b[1;33m\u001b[0m\u001b[0m\n\u001b[1;32m---> 15\u001b[1;33m \u001b[1;32mclass\u001b[0m \u001b[0mHeadOfHouseholdExist\u001b[0m\u001b[1;33m(\u001b[0m\u001b[0mBaseEstimator\u001b[0m\u001b[1;33m,\u001b[0m \u001b[0mTransformerMixin\u001b[0m\u001b[1;33m)\u001b[0m\u001b[1;33m:\u001b[0m\u001b[1;33m\u001b[0m\u001b[1;33m\u001b[0m\u001b[0m\n\u001b[0m\u001b[0;32m     16\u001b[0m     \u001b[1;32mdef\u001b[0m \u001b[0m__init__\u001b[0m\u001b[1;33m(\u001b[0m\u001b[0mself\u001b[0m\u001b[1;33m,\u001b[0m \u001b[0mvariables\u001b[0m\u001b[1;33m:\u001b[0m \u001b[0mList\u001b[0m\u001b[1;33m[\u001b[0m\u001b[0mstr\u001b[0m\u001b[1;33m]\u001b[0m\u001b[1;33m)\u001b[0m \u001b[1;33m->\u001b[0m \u001b[1;32mNone\u001b[0m\u001b[1;33m:\u001b[0m\u001b[1;33m\u001b[0m\u001b[1;33m\u001b[0m\u001b[0m\n\u001b[0;32m     17\u001b[0m         '''\n",
      "\u001b[1;31mNameError\u001b[0m: name 'BaseEstimator' is not defined"
     ]
    }
   ],
   "source": [
    "################## Head of households\n",
    "\n",
    "#### TEST\n",
    "def test_head_of_household_exists(raw_data):\n",
    "    # Given\n",
    "    hh_head = df.groupby('idhogar')['parentesco1'].sum().reset_index()\n",
    "    \n",
    "    # When\n",
    "    hh_head_none = hh_head[hh_head['parentesco1']!=1]\n",
    "    \n",
    "    # Then\n",
    "    assert hh_head_none.shape[0]==0\n",
    "    \n",
    "#### FIX\n",
    "class HeadOfHouseholdExist(BaseEstimator, TransformerMixin):\n",
    "    def __init__(self, variables: List[str]) -> None:\n",
    "        '''\n",
    "        Specify variable input as list of strings representing column names of a pd.DataFrame.\n",
    "        '''\n",
    "        # YOUR CODE HERE\n",
    "        return None\n",
    "    \n",
    "    def fit(self, X: pd.DataFrame, y: pd.Series = None):\n",
    "        '''\n",
    "        Required method for Sklearn TransformerMixin class.\n",
    "        Remains inactive and performs no action for now.\n",
    "        Leave as is.\n",
    "        '''\n",
    "        return self\n",
    "\n",
    "    def transform(self, X: pd.DataFrame, y: pd.Series = None):\n",
    "        '''\n",
    "        Creates a copy of input dataframe, which is passed to method via the sklearn Pipeline.\n",
    "        This method performs changes to the dataframe with reference to specified variables.\n",
    "        The modified copy of the original dataframe is then returned and passed to the next step in pipeline.\n",
    "        Define your specific transformation here.\n",
    "        '''\n",
    "        X = X.copy()\n",
    "        # YOUR CODE HERE\n",
    "        hh_head = df.groupby('idhogar')['parentesco1'].sum().reset_index()\n",
    "        hh_head_none= hh_head[hh_head['parentesco1']!=1]\n",
    "        hh_head_none\n",
    "        \n",
    "        X = X[~X['idhogar'].isin(hh_head_none['idhogar'].values)]\n",
    "\n",
    "        return X\n",
    "\n",
    "#### TEST\n",
    "def test_household_target_match(raw_data):\n",
    "    # Given\n",
    "    householdTargetsMatching = (df.groupby('idhogar')['Target'].nunique()==1).reset_index()\n",
    "    \n",
    "    # When\n",
    "    householdTargetMisMatch = householdTargetsMatching[householdTargetsMatching['Target']==False]\n",
    "    \n",
    "    # Then\n",
    "    assert householdTargetMisMatch.shape[0]==0\n",
    "\n",
    "    \n",
    "#### FIX\n",
    "class HouseholdTargetsMatch(BaseEstimator, TransformerMixin):\n",
    "    def __init__(self, variables: List[str]) -> None:\n",
    "        '''\n",
    "        Specify variable input as list of strings representing column names of a pd.DataFrame.\n",
    "        '''\n",
    "        # YOUR CODE HERE\n",
    "        return None\n",
    "    \n",
    "    def fit(self, X: pd.DataFrame, y: pd.Series = None):\n",
    "        '''\n",
    "        Required method for Sklearn TransformerMixin class.\n",
    "        Remains inactive and performs no action for now.\n",
    "        Leave as is.\n",
    "        '''\n",
    "        return self\n",
    "\n",
    "    def transform(self, X: pd.DataFrame, y: pd.Series = None):\n",
    "        '''\n",
    "        Creates a copy of input dataframe, which is passed to method via the sklearn Pipeline.\n",
    "        This method performs changes to the dataframe with reference to specified variables.\n",
    "        The modified copy of the original dataframe is then returned and passed to the next step in pipeline.\n",
    "        Define your specific transformation here.\n",
    "        '''\n",
    "        X = X.copy()\n",
    "        # Identify household target mismatches\n",
    "        householdTargetsMatching = (X.groupby('idhogar')['Target'].nunique()==1).reset_index()\n",
    "        householdTargetMisMatch = householdTargetsMatching[householdTargetsMatching['Target']==False]\n",
    "        \n",
    "        # set all member targets to head of household target\n",
    "        for household in householdTargetMisMatch['idhogar']:\n",
    "            correct_poverty_level = int(X[(X['idhogar'] == household) & (X['parentesco1'] == 1)]['Target'])\n",
    "            X.loc[df['idhogar'] == household, 'Target'] = correct_poverty_level\n",
    "\n",
    "        return X\n"
   ]
  },
  {
   "cell_type": "code",
   "execution_count": null,
   "metadata": {},
   "outputs": [],
   "source": [
    "#### FIX\n",
    "class BinaryEncoder(BaseEstimator, TransformerMixin):\n",
    "    def __init__(self, variables: List[str]) -> None:\n",
    "        '''\n",
    "        Specify variable input as list of strings representing column names of a pd.DataFrame.\n",
    "        '''\n",
    "        # YOUR CODE HERE\n",
    "        return None\n",
    "    \n",
    "    def fit(self, X: pd.DataFrame, y: pd.Series = None):\n",
    "        '''\n",
    "        Required method for Sklearn TransformerMixin class.\n",
    "        Remains inactive and performs no action for now.\n",
    "        Leave as is.\n",
    "        '''\n",
    "        return self\n",
    "\n",
    "    def transform(self, X: pd.DataFrame, y: pd.Series = None):\n",
    "        '''\n",
    "        Creates a copy of input dataframe, which is passed to method via the sklearn Pipeline.\n",
    "        This method performs changes to the dataframe with reference to specified variables.\n",
    "        The modified copy of the original dataframe is then returned and passed to the next step in pipeline.\n",
    "        Define your specific transformation here.\n",
    "        '''\n",
    "        X = X.copy()\n",
    "        \n",
    "        string_to_binary = {\"yes\": 1, \"no\": 0}\n",
    "\n",
    "        X['edjefa'] = X['edjefa'].replace(string_to_binary).astype(float)\n",
    "        X['edjefe'] = X['edjefe'].replace(string_to_binary).astype(float)\n",
    "        X['dependency'] = X['dependency'].replace(string_to_binary).astype(float)\n",
    "\n",
    "\n",
    "        return X"
   ]
  },
  {
   "cell_type": "code",
   "execution_count": 18,
   "metadata": {},
   "outputs": [
    {
     "data": {
      "text/plain": [
       "0       1\n",
       "1       1\n",
       "2       0\n",
       "3       1\n",
       "4       0\n",
       "       ..\n",
       "9552    1\n",
       "9553    0\n",
       "9554    0\n",
       "9555    0\n",
       "9556    1\n",
       "Name: male, Length: 9557, dtype: int64"
      ]
     },
     "execution_count": 18,
     "metadata": {},
     "output_type": "execute_result"
    }
   ],
   "source": [
    "df['male']"
   ]
  },
  {
   "cell_type": "code",
   "execution_count": 16,
   "metadata": {},
   "outputs": [
    {
     "data": {
      "text/html": [
       "<div>\n",
       "<style scoped>\n",
       "    .dataframe tbody tr th:only-of-type {\n",
       "        vertical-align: middle;\n",
       "    }\n",
       "\n",
       "    .dataframe tbody tr th {\n",
       "        vertical-align: top;\n",
       "    }\n",
       "\n",
       "    .dataframe thead th {\n",
       "        text-align: right;\n",
       "    }\n",
       "</style>\n",
       "<table border=\"1\" class=\"dataframe\">\n",
       "  <thead>\n",
       "    <tr style=\"text-align: right;\">\n",
       "      <th></th>\n",
       "      <th>Id</th>\n",
       "      <th>idhogar</th>\n",
       "    </tr>\n",
       "  </thead>\n",
       "  <tbody>\n",
       "    <tr>\n",
       "      <th>0</th>\n",
       "      <td>ID_279628684</td>\n",
       "      <td>21eb7fcc1</td>\n",
       "    </tr>\n",
       "    <tr>\n",
       "      <th>1</th>\n",
       "      <td>ID_f29eb3ddd</td>\n",
       "      <td>0e5d7a658</td>\n",
       "    </tr>\n",
       "    <tr>\n",
       "      <th>2</th>\n",
       "      <td>ID_68de51c94</td>\n",
       "      <td>2c7317ea8</td>\n",
       "    </tr>\n",
       "    <tr>\n",
       "      <th>3</th>\n",
       "      <td>ID_d671db89c</td>\n",
       "      <td>2b58d945f</td>\n",
       "    </tr>\n",
       "    <tr>\n",
       "      <th>4</th>\n",
       "      <td>ID_d56d6f5f5</td>\n",
       "      <td>2b58d945f</td>\n",
       "    </tr>\n",
       "    <tr>\n",
       "      <th>...</th>\n",
       "      <td>...</td>\n",
       "      <td>...</td>\n",
       "    </tr>\n",
       "    <tr>\n",
       "      <th>9552</th>\n",
       "      <td>ID_d45ae367d</td>\n",
       "      <td>d6c086aa3</td>\n",
       "    </tr>\n",
       "    <tr>\n",
       "      <th>9553</th>\n",
       "      <td>ID_c94744e07</td>\n",
       "      <td>d6c086aa3</td>\n",
       "    </tr>\n",
       "    <tr>\n",
       "      <th>9554</th>\n",
       "      <td>ID_85fc658f8</td>\n",
       "      <td>d6c086aa3</td>\n",
       "    </tr>\n",
       "    <tr>\n",
       "      <th>9555</th>\n",
       "      <td>ID_ced540c61</td>\n",
       "      <td>d6c086aa3</td>\n",
       "    </tr>\n",
       "    <tr>\n",
       "      <th>9556</th>\n",
       "      <td>ID_a38c64491</td>\n",
       "      <td>d6c086aa3</td>\n",
       "    </tr>\n",
       "  </tbody>\n",
       "</table>\n",
       "<p>9557 rows × 2 columns</p>\n",
       "</div>"
      ],
      "text/plain": [
       "                Id    idhogar\n",
       "0     ID_279628684  21eb7fcc1\n",
       "1     ID_f29eb3ddd  0e5d7a658\n",
       "2     ID_68de51c94  2c7317ea8\n",
       "3     ID_d671db89c  2b58d945f\n",
       "4     ID_d56d6f5f5  2b58d945f\n",
       "...            ...        ...\n",
       "9552  ID_d45ae367d  d6c086aa3\n",
       "9553  ID_c94744e07  d6c086aa3\n",
       "9554  ID_85fc658f8  d6c086aa3\n",
       "9555  ID_ced540c61  d6c086aa3\n",
       "9556  ID_a38c64491  d6c086aa3\n",
       "\n",
       "[9557 rows x 2 columns]"
      ]
     },
     "execution_count": 16,
     "metadata": {},
     "output_type": "execute_result"
    }
   ],
   "source": [
    "df.select_dtypes(include=[object])"
   ]
  },
  {
   "cell_type": "code",
   "execution_count": null,
   "metadata": {},
   "outputs": [],
   "source": [
    "class MissingValuesEvaluator:\n",
    "    pass\n",
    "\n",
    "class VariableDistributionEvaluator:\n",
    "    pass"
   ]
  }
 ],
 "metadata": {
  "kernelspec": {
   "display_name": "Python 3",
   "language": "python",
   "name": "python3"
  },
  "language_info": {
   "codemirror_mode": {
    "name": "ipython",
    "version": 3
   },
   "file_extension": ".py",
   "mimetype": "text/x-python",
   "name": "python",
   "nbconvert_exporter": "python",
   "pygments_lexer": "ipython3",
   "version": "3.8.3"
  }
 },
 "nbformat": 4,
 "nbformat_minor": 4
}
