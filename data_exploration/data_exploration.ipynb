{
 "cells": [
  {
   "cell_type": "markdown",
   "metadata": {},
   "source": [
    "### Config"
   ]
  },
  {
   "cell_type": "code",
   "execution_count": null,
   "metadata": {},
   "outputs": [],
   "source": [
    "from pathlib import Path"
   ]
  },
  {
   "cell_type": "code",
   "execution_count": null,
   "metadata": {},
   "outputs": [],
   "source": [
    "# Path specifications\n",
    "PROJECT_NAME = 'costa_rica_poverty'\n",
    "PACKAGE_ROOT = Path().resolve().parent\n",
    "INPUT_DIR = f\"{PACKAGE_ROOT}/{PROJECT_NAME}/packages/model/model/input/data\"\n",
    "ASSET_DIR = f\"{PACKAGE_ROOT}/{PROJECT_NAME}/packages/model/model/assets\"\n",
    "\n",
    "# Data file specifications\n",
    "CODEBOOK = 'codebook.csv'\n",
    "DATA_FILE = 'train.csv'"
   ]
  },
  {
   "cell_type": "markdown",
   "metadata": {},
   "source": [
    "### Data exploration"
   ]
  },
  {
   "cell_type": "code",
   "execution_count": null,
   "metadata": {},
   "outputs": [],
   "source": [
    "import pandas as pd\n",
    "import numpy as np"
   ]
  },
  {
   "cell_type": "code",
   "execution_count": null,
   "metadata": {},
   "outputs": [],
   "source": [
    "codebook = pd.read_csv(f\"{ASSET_DIR}/{CODEBOOK}\")\n",
    "df = pd.read_csv(f\"{INPUT_DIR}/{DATA_FILE}\")"
   ]
  },
  {
   "cell_type": "code",
   "execution_count": null,
   "metadata": {},
   "outputs": [],
   "source": [
    "class MissingValuesEvaluator:\n",
    "    pass\n",
    "\n",
    "class VariableDistributionEvaluator:\n",
    "    pass"
   ]
  }
 ],
 "metadata": {
  "kernelspec": {
   "display_name": "Python 3",
   "language": "python",
   "name": "python3"
  },
  "language_info": {
   "codemirror_mode": {
    "name": "ipython",
    "version": 3
   },
   "file_extension": ".py",
   "mimetype": "text/x-python",
   "name": "python",
   "nbconvert_exporter": "python",
   "pygments_lexer": "ipython3",
   "version": "3.8.3"
  }
 },
 "nbformat": 4,
 "nbformat_minor": 4
}
